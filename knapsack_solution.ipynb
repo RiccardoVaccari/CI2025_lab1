{
 "cells": [
  {
   "cell_type": "markdown",
   "id": "e7d9faf8",
   "metadata": {},
   "source": [
    "### ⎯⎯⎯⎯⎯⎯⎯⎯⎯⎯⎯⎯⎯⎯⎯⎯⎯⎯⎯⎯⎯⎯⎯⎯⎯⎯⎯⎯⎯⎯⎯\n",
    "## Laboratory 1 Solution\n",
    "### Cooperating with: Luca Lodesani (s346978)\n",
    "### ⎯⎯⎯⎯⎯⎯⎯⎯⎯⎯⎯⎯⎯⎯⎯⎯⎯⎯⎯⎯⎯⎯⎯⎯⎯⎯⎯⎯⎯⎯⎯"
   ]
  },
  {
   "cell_type": "code",
   "execution_count": null,
   "id": "05ba2046",
   "metadata": {},
   "outputs": [],
   "source": [
    "import numpy as np"
   ]
  },
  {
   "cell_type": "code",
   "execution_count": 67,
   "id": "e00ecefd",
   "metadata": {},
   "outputs": [],
   "source": [
    "# Problem 1 setup\n",
    "rng = np.random.default_rng(seed=42)\n",
    "NUM_KNAPSACKS = 3\n",
    "NUM_ITEMS = 20\n",
    "NUM_DIMENSIONS = 2\n",
    "VALUES = rng.integers(0, 100, size=NUM_ITEMS)\n",
    "WEIGHTS = rng.integers(0, 100, size=(NUM_ITEMS, NUM_DIMENSIONS))\n",
    "CONSTRAINTS = rng.integers(0, 100 * NUM_ITEMS // NUM_KNAPSACKS, size=(NUM_KNAPSACKS,NUM_DIMENSIONS))\n"
   ]
  },
  {
   "cell_type": "code",
   "execution_count": 79,
   "id": "e92db4db",
   "metadata": {},
   "outputs": [],
   "source": [
    "# Problem 2 setup\n",
    "rng = np.random.default_rng(seed=42)\n",
    "NUM_KNAPSACKS = 10\n",
    "NUM_ITEMS = 100\n",
    "NUM_DIMENSIONS = 10\n",
    "VALUES = rng.integers(0, 1000, size=NUM_ITEMS)\n",
    "WEIGHTS = rng.integers(0, 1000, size=(NUM_ITEMS, NUM_DIMENSIONS))\n",
    "CONSTRAINTS = rng.integers(1000 * 2, 1000 * NUM_ITEMS // NUM_KNAPSACKS,  size=(NUM_KNAPSACKS,NUM_DIMENSIONS))"
   ]
  },
  {
   "cell_type": "code",
   "execution_count": 26,
   "id": "52b71034",
   "metadata": {},
   "outputs": [],
   "source": [
    "# Problem 3 setup\n",
    "rng = np.random.default_rng(seed=42)\n",
    "NUM_KNAPSACKS = 100\n",
    "NUM_ITEMS = 5000\n",
    "NUM_DIMENSIONS = 100\n",
    "VALUES = rng.integers(0, 1000, size=NUM_ITEMS)\n",
    "WEIGHTS = rng.integers(0, 1000, size=(NUM_ITEMS, NUM_DIMENSIONS))\n",
    "CONSTRAINTS = rng.integers(1000 * 10, 1000 * 2 * NUM_ITEMS // NUM_KNAPSACKS,  size=(NUM_KNAPSACKS,NUM_DIMENSIONS))"
   ]
  },
  {
   "cell_type": "markdown",
   "id": "276be07f",
   "metadata": {},
   "source": [
    "## Base Hill Climbing "
   ]
  },
  {
   "cell_type": "code",
   "execution_count": null,
   "id": "109603cf",
   "metadata": {},
   "outputs": [
    {
     "name": "stdout",
     "output_type": "stream",
     "text": [
      "Total value: 35332\n",
      "Zaino 1 value: 3056\n",
      "Zaino 2 value: 3042\n",
      "Zaino 3 value: 2202\n",
      "Zaino 4 value: 3878\n",
      "Zaino 5 value: 3650\n",
      "Zaino 6 value: 3827\n",
      "Zaino 7 value: 3292\n",
      "Zaino 8 value: 2638\n",
      "Zaino 9 value: 4707\n",
      "Zaino 10 value: 5040\n",
      "Zaino 1 weights: [4514 3200 3053 3140 2346 3147 2017 2737 1922 1929], constraints: [5837 5754 9351 3205 4450 3447 3952 9256 9525 2357]\n",
      "Zaino 2 weights: [3593 2424 3539 2589 2686 3178 3067 2646 2850 4058], constraints: [7056 3862 3540 4336 3555 5921 9964 6691 7785 5946]\n",
      "Zaino 3 weights: [2067 2637 3569 2362 3916 2237 2584 2730 3094 2361], constraints: [2111 2672 4150 3949 8724 8748 8832 7100 6449 7193]\n",
      "Zaino 4 weights: [1941 1335 3239 3049 2786 2435 2490 2090 2442 2962], constraints: [5254 7361 8355 8103 6910 2464 7799 4932 7949 6316]\n",
      "Zaino 5 weights: [2991 4606 2186 4698 4627 4508 5336 3032 3461 2363], constraints: [9049 4707 9451 8755 4648 5860 6250 8149 7513 8816]\n",
      "Zaino 6 weights: [2459 4028 4379 3115 3351 3058 2947 3138 2236 3148], constraints: [4958 6038 5446 9276 4439 6696 2961 8802 5073 4724]\n",
      "Zaino 7 weights: [2907 4252 3492 2644 2975 2338 2172 1870 2595 2600], constraints: [6663 5990 8783 6251 6135 2839 2175 5188 9985 9338]\n",
      "Zaino 8 weights: [1924 2687 1563 2655 2053 2510 1843 1830 2554 1703], constraints: [7031 7046 5132 3420 2068 4710 4531 3532 4073 2198]\n",
      "Zaino 9 weights: [4223 3640 3265 3292 3759 3760 3131 3094 4408 1989], constraints: [6863 9419 7526 5585 5362 4460 3139 6787 6532 2058]\n",
      "Zaino 10 weights: [3598 4191 3354 5040 5170 3508 4872 3589 4878 5077], constraints: [5324 4224 3362 7624 6206 7070 7707 9854 8422 6962]\n"
     ]
    }
   ],
   "source": [
    "# --- Hill climbing setup ---\n",
    "solution = np.zeros((NUM_KNAPSACKS, NUM_ITEMS), dtype=bool)\n",
    "\n",
    "# fitness\n",
    "def value(sol):\n",
    "    return VALUES[np.any(sol, axis=0)].sum()\n",
    "\n",
    "# validity\n",
    "def is_valid(sol):\n",
    "    # max 1 bag for each item\n",
    "    if np.any(sol.sum(axis=0) > 1):\n",
    "        return False\n",
    "\n",
    "    # check weight constraints for each knapsack\n",
    "    return np.all([WEIGHTS[sol[k]].sum(axis=0) <= CONSTRAINTS[k] for k in range(NUM_KNAPSACKS)])\n",
    "\n",
    "def tweak(sol):\n",
    "    new_solution = solution.copy()\n",
    "    # randomly select knapsack and item\n",
    "    k = rng.integers(0, NUM_KNAPSACKS)\n",
    "    i = rng.integers(0, NUM_ITEMS)\n",
    "    #tweak: flip random item in random knapsack\n",
    "    new_solution[k, i] = not new_solution[k, i]\n",
    "    return new_solution\n",
    "\n",
    "# --- Hill climbing loop ---\n",
    "iterations = 100000\n",
    "for _ in range(iterations):\n",
    "\n",
    "    new_solution = tweak(solution)\n",
    "\n",
    "    # generate new solution if invalid\n",
    "    if not is_valid(new_solution):\n",
    "        continue\n",
    "    \n",
    "    # update solution if better or equal\n",
    "    if value(new_solution) >= value(solution):\n",
    "        solution = new_solution\n",
    "\n",
    "# --- Output results ---\n",
    "total_value = value(solution)\n",
    "values_per_knapsack = [VALUES[solution[k]].sum() for k in range(NUM_KNAPSACKS)]\n",
    "\n",
    "print(\"Total value:\", total_value)\n",
    "for k, v in enumerate(values_per_knapsack):\n",
    "    print(f\"Zaino {k+1} value: {v}\")\n",
    "\n",
    "for k in range(NUM_KNAPSACKS):\n",
    "    total_weights = WEIGHTS[solution[k]].sum(axis=0)\n",
    "    print(f\"Zaino {k+1} weights: {total_weights}, constraints: {CONSTRAINTS[k]}\")\n"
   ]
  },
  {
   "cell_type": "markdown",
   "id": "2caad32f",
   "metadata": {},
   "source": [
    "# Tabu Search Hill Climbing"
   ]
  },
  {
   "cell_type": "code",
   "execution_count": null,
   "id": "60edb85f",
   "metadata": {},
   "outputs": [],
   "source": [
    "NUM_SAMPLES = 10  # number of neighbors to sample"
   ]
  },
  {
   "cell_type": "code",
   "execution_count": null,
   "id": "747efd5b",
   "metadata": {},
   "outputs": [
    {
     "name": "stdout",
     "output_type": "stream",
     "text": [
      "Total value: 40077\n",
      "Zaino 1 value: 3055\n",
      "Zaino 2 value: 4160\n",
      "Zaino 3 value: 4238\n",
      "Zaino 4 value: 4347\n",
      "Zaino 5 value: 5797\n",
      "Zaino 6 value: 4026\n",
      "Zaino 7 value: 2784\n",
      "Zaino 8 value: 4052\n",
      "Zaino 9 value: 3339\n",
      "Zaino 10 value: 4279\n",
      "Zaino 1 weights: [4027 3854 3149 3082 3599 3217 3342 3252 3020 2266], constraints: [5837 5754 9351 3205 4450 3447 3952 9256 9525 2357]\n",
      "Zaino 2 weights: [4108 3768 3262 3546 2795 2808 1865 3133 2921 3421], constraints: [7056 3862 3540 4336 3555 5921 9964 6691 7785 5946]\n",
      "Zaino 3 weights: [1699 2671 2920 3566 3400 2530 2474  764 1947 2913], constraints: [2111 2672 4150 3949 8724 8748 8832 7100 6449 7193]\n",
      "Zaino 4 weights: [1863 3666 2625 2699 2774 2425 3364 3235 3923 1272], constraints: [5254 7361 8355 8103 6910 2464 7799 4932 7949 6316]\n",
      "Zaino 5 weights: [4627 4686 4415 5354 4546 4706 6247 3980 4082 4888], constraints: [9049 4707 9451 8755 4648 5860 6250 8149 7513 8816]\n",
      "Zaino 6 weights: [2709 2474 3743 3919 4412 4000 2805 2483 4200 4097], constraints: [4958 6038 5446 9276 4439 6696 2961 8802 5073 4724]\n",
      "Zaino 7 weights: [4283 2418 2571 3260 3814 2762 2084 2466 3585 3608], constraints: [6663 5990 8783 6251 6135 2839 2175 5188 9985 9338]\n",
      "Zaino 8 weights: [3849 2755 3429 2583 2031 3755 2627 3206 2718 2186], constraints: [7031 7046 5132 3420 2068 4710 4531 3532 4073 2198]\n",
      "Zaino 9 weights: [2784 3287 3375 2683 2769 3935 2827 3845 2468 1955], constraints: [6863 9419 7526 5585 5362 4460 3139 6787 6532 2058]\n",
      "Zaino 10 weights: [3252 4209 3068 2858 2665 2629 3930 2156 3243 3745], constraints: [5324 4224 3362 7624 6206 7070 7707 9854 8422 6962]\n"
     ]
    }
   ],
   "source": [
    "# --- Hill climbing setup ---\n",
    "solution = np.zeros((NUM_KNAPSACKS, NUM_ITEMS), dtype=bool)\n",
    "\n",
    "# fitness\n",
    "def value(sol):\n",
    "    return VALUES[np.any(sol, axis=0)].sum()\n",
    "\n",
    "# validity\n",
    "def is_valid(sol):\n",
    "    # max 1 bag for each item\n",
    "    if np.any(sol.sum(axis=0) > 1):\n",
    "        return False\n",
    "\n",
    "    # check weight constraints for each knapsack\n",
    "    return np.all([WEIGHTS[sol[k]].sum(axis=0) <= CONSTRAINTS[k] for k in range(NUM_KNAPSACKS)])\n",
    "\n",
    "def tweak(sol):\n",
    "    new_solution = sol.copy()\n",
    "    # randomly select knapsack and item\n",
    "    k = rng.integers(0, NUM_KNAPSACKS)\n",
    "    i = rng.integers(0, NUM_ITEMS)\n",
    "    #tweak: flip random item in random knapsack\n",
    "    new_solution[k, i] = not new_solution[k, i] \n",
    "    return new_solution\n",
    "\n",
    "# --- Hill climbing loop ---\n",
    "iterations = 100000\n",
    "tabu_list = set()\n",
    "for _ in range(iterations):\n",
    "\n",
    "    possible_solutions = [tweak(solution) for _ in range(NUM_SAMPLES)]\n",
    "    candidates = [sol for sol in possible_solutions if is_valid(sol) and sol.flatten().tobytes() not in tabu_list]\n",
    "\n",
    "    # if no valid candidates, continue\n",
    "    if not len(candidates):\n",
    "        continue\n",
    "\n",
    "    new_solution = max(candidates, key=value)\n",
    "    \n",
    "    # update solution if better or equal\n",
    "    if value(new_solution) >= value(solution):\n",
    "        tabu_list.add(solution.flatten().tobytes())\n",
    "        solution = new_solution\n",
    "\n",
    "# --- Output results ---\n",
    "total_value = value(solution)\n",
    "values_per_knapsack = [VALUES[solution[k]].sum() for k in range(NUM_KNAPSACKS)]\n",
    "\n",
    "print(\"Total value:\", total_value)\n",
    "for k, v in enumerate(values_per_knapsack):\n",
    "    print(f\"Zaino {k+1} value: {v}\")\n",
    "\n",
    "for k in range(NUM_KNAPSACKS):\n",
    "    total_weights = WEIGHTS[solution[k]].sum(axis=0)\n",
    "    print(f\"Zaino {k+1} weights: {total_weights}, constraints: {CONSTRAINTS[k]}\")\n",
    "    \n"
   ]
  }
 ],
 "metadata": {
  "kernelspec": {
   "display_name": "Python 3",
   "language": "python",
   "name": "python3"
  },
  "language_info": {
   "codemirror_mode": {
    "name": "ipython",
    "version": 3
   },
   "file_extension": ".py",
   "mimetype": "text/x-python",
   "name": "python",
   "nbconvert_exporter": "python",
   "pygments_lexer": "ipython3",
   "version": "3.11.9"
  }
 },
 "nbformat": 4,
 "nbformat_minor": 5
}
